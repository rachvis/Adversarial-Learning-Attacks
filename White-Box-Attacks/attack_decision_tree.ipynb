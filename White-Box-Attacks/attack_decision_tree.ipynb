{
 "cells": [
  {
   "cell_type": "markdown",
   "metadata": {},
   "source": [
    "# ART decision tree classifier attack"
   ]
  },
  {
   "cell_type": "markdown",
   "metadata": {},
   "source": [
    "This notebook shows how to compute adversarial examples on decision trees (as described in by Papernot et al. in https://arxiv.org/abs/1605.07277). Due to the structure of the decision tree, an adversarial example can be computed without any explicit gradients, only by traversing the learned tree structure.\n",
    "\n",
    "Consider the following simple decision tree for four dimensional data, where we go to the left if a condition is true:\n",
    "\n",
    "                    F1<3\n",
    "           \n",
    "              F2<5        F2>2\n",
    "                \n",
    "         F4>3     C1    F3<1     C3* \n",
    "             \n",
    "      C1     C2       C3    C1  \n",
    "      \n",
    "Given sample [4,4,1,1], the tree outputs C3 (as indicated by the star). To misclassify the sample, we walk one node up and explore the subtree on the left. We find the leaf outputting C1 and change the two features, obtaining [4,1.9,0.9,1]. In this implementation, we change only the features with wrong values, and specify the offset in advance."
   ]
  },
  {
   "cell_type": "code",
   "execution_count": 1,
   "metadata": {},
   "outputs": [
    {
     "name": "stdout",
     "output_type": "stream",
     "text": [
      "Requirement already satisfied: adversarial-robustness-toolbox in /opt/conda/envs/Python36/lib/python3.6/site-packages (1.3.1)\n",
      "Requirement already satisfied: Pillow in /opt/conda/envs/Python36/lib/python3.6/site-packages (from adversarial-robustness-toolbox) (5.4.1)\n",
      "Requirement already satisfied: tqdm in /opt/conda/envs/Python36/lib/python3.6/site-packages (from adversarial-robustness-toolbox) (4.31.1)\n",
      "Requirement already satisfied: resampy in /opt/conda/envs/Python36/lib/python3.6/site-packages (from adversarial-robustness-toolbox) (0.2.2)\n",
      "Requirement already satisfied: cma in /opt/conda/envs/Python36/lib/python3.6/site-packages (from adversarial-robustness-toolbox) (3.0.3)\n",
      "Requirement already satisfied: scipy==1.4.1 in /opt/conda/envs/Python36/lib/python3.6/site-packages (from adversarial-robustness-toolbox) (1.4.1)\n",
      "Requirement already satisfied: six in /opt/conda/envs/Python36/lib/python3.6/site-packages (from adversarial-robustness-toolbox) (1.12.0)\n",
      "Requirement already satisfied: numpy in /opt/conda/envs/Python36/lib/python3.6/site-packages (from adversarial-robustness-toolbox) (1.15.4)\n",
      "Requirement already satisfied: statsmodels in /opt/conda/envs/Python36/lib/python3.6/site-packages (from adversarial-robustness-toolbox) (0.9.0)\n",
      "Requirement already satisfied: setuptools in /opt/conda/envs/Python36/lib/python3.6/site-packages (from adversarial-robustness-toolbox) (40.8.0)\n",
      "Requirement already satisfied: pydub in /opt/conda/envs/Python36/lib/python3.6/site-packages (from adversarial-robustness-toolbox) (0.24.1)\n",
      "Requirement already satisfied: mypy in /opt/conda/envs/Python36/lib/python3.6/site-packages (from adversarial-robustness-toolbox) (0.782)\n",
      "Requirement already satisfied: matplotlib in /opt/conda/envs/Python36/lib/python3.6/site-packages (from adversarial-robustness-toolbox) (3.0.2)\n",
      "Requirement already satisfied: ffmpeg-python in /opt/conda/envs/Python36/lib/python3.6/site-packages (from adversarial-robustness-toolbox) (0.2.0)\n",
      "Requirement already satisfied: scikit-learn==0.22.1 in /opt/conda/envs/Python36/lib/python3.6/site-packages (from adversarial-robustness-toolbox) (0.22.1)\n",
      "Requirement already satisfied: numba>=0.32 in /opt/conda/envs/Python36/lib/python3.6/site-packages (from resampy->adversarial-robustness-toolbox) (0.42.0)\n",
      "Requirement already satisfied: typing-extensions>=3.7.4 in /opt/conda/envs/Python36/lib/python3.6/site-packages (from mypy->adversarial-robustness-toolbox) (3.7.4.2)\n",
      "Requirement already satisfied: mypy-extensions<0.5.0,>=0.4.3 in /opt/conda/envs/Python36/lib/python3.6/site-packages (from mypy->adversarial-robustness-toolbox) (0.4.3)\n",
      "Requirement already satisfied: typed-ast<1.5.0,>=1.4.0 in /opt/conda/envs/Python36/lib/python3.6/site-packages (from mypy->adversarial-robustness-toolbox) (1.4.1)\n",
      "Requirement already satisfied: cycler>=0.10 in /opt/conda/envs/Python36/lib/python3.6/site-packages (from matplotlib->adversarial-robustness-toolbox) (0.10.0)\n",
      "Requirement already satisfied: kiwisolver>=1.0.1 in /opt/conda/envs/Python36/lib/python3.6/site-packages (from matplotlib->adversarial-robustness-toolbox) (1.0.1)\n",
      "Requirement already satisfied: pyparsing!=2.0.4,!=2.1.2,!=2.1.6,>=2.0.1 in /opt/conda/envs/Python36/lib/python3.6/site-packages (from matplotlib->adversarial-robustness-toolbox) (2.3.1)\n",
      "Requirement already satisfied: python-dateutil>=2.1 in /opt/conda/envs/Python36/lib/python3.6/site-packages (from matplotlib->adversarial-robustness-toolbox) (2.7.5)\n",
      "Requirement already satisfied: future in /opt/conda/envs/Python36/lib/python3.6/site-packages (from ffmpeg-python->adversarial-robustness-toolbox) (0.17.1)\n",
      "Requirement already satisfied: joblib>=0.11 in /opt/conda/envs/Python36/lib/python3.6/site-packages (from scikit-learn==0.22.1->adversarial-robustness-toolbox) (0.16.0)\n",
      "Requirement already satisfied: llvmlite>=0.27.0dev0 in /opt/conda/envs/Python36/lib/python3.6/site-packages (from numba>=0.32->resampy->adversarial-robustness-toolbox) (0.27.0)\n"
     ]
    }
   ],
   "source": [
    "!pip install adversarial-robustness-toolbox"
   ]
  },
  {
   "cell_type": "markdown",
   "metadata": {},
   "source": [
    "## Applying the attack"
   ]
  },
  {
   "cell_type": "code",
   "execution_count": 2,
   "metadata": {},
   "outputs": [],
   "source": [
    "from sklearn.tree import DecisionTreeClassifier\n",
    "from sklearn.datasets import load_digits\n",
    "from matplotlib import pyplot as plt\n",
    "import numpy as np\n",
    "\n",
    "from art.attacks.evasion import DecisionTreeAttack\n",
    "from art.estimators.classification import SklearnClassifier"
   ]
  },
  {
   "cell_type": "code",
   "execution_count": 3,
   "metadata": {},
   "outputs": [
    {
     "name": "stdout",
     "output_type": "stream",
     "text": [
      "[0 1 2 3 4 5 6 7 8 9 0 1 2 3]\n"
     ]
    },
    {
     "data": {
      "text/plain": [
       "<matplotlib.colorbar.Colorbar at 0x7efd4256a128>"
      ]
     },
     "execution_count": 3,
     "metadata": {},
     "output_type": "execute_result"
    },
    {
     "data": {
      "image/png": "[encoded data removed]",
      "text/plain": [
       "<Figure size 432x288 with 2 Axes>"
      ]
     },
     "metadata": {
      "needs_background": "light"
     },
     "output_type": "display_data"
    }
   ],
   "source": [
    "digits = load_digits()\n",
    "X = digits.data\n",
    "y = digits.target\n",
    "\n",
    "clf = DecisionTreeClassifier()\n",
    "clf.fit(X,y)\n",
    "clf_art = SklearnClassifier(clf)\n",
    "print(clf.predict(X[:14]))\n",
    "plt.imshow(X[0].reshape(8,8))\n",
    "plt.colorbar()"
   ]
  },
  {
   "cell_type": "markdown",
   "metadata": {},
   "source": [
    "We now craft adversarial examples and plot their classification. The difference is really small, and often only one or two features are changed."
   ]
  },
  {
   "cell_type": "code",
   "execution_count": 4,
   "metadata": {},
   "outputs": [
    {
     "name": "stderr",
     "output_type": "stream",
     "text": [
      "Decision tree attack: 100%|██████████| 14/14 [00:00<00:00, 1220.31it/s]"
     ]
    },
    {
     "name": "stdout",
     "output_type": "stream",
     "text": [
      "[5 4 4 6 5 4 1 2 4 4 5 4 6 4]\n"
     ]
    },
    {
     "name": "stderr",
     "output_type": "stream",
     "text": [
      "\n"
     ]
    },
    {
     "data": {
      "text/plain": [
       "<matplotlib.image.AxesImage at 0x7efd42722da0>"
      ]
     },
     "execution_count": 4,
     "metadata": {},
     "output_type": "execute_result"
    },
    {
     "data": {
      "image/png": "[encoded data removed]",
      "text/plain": [
       "<Figure size 432x288 with 1 Axes>"
      ]
     },
     "metadata": {
      "needs_background": "light"
     },
     "output_type": "display_data"
    }
   ],
   "source": [
    "attack = DecisionTreeAttack(clf_art)\n",
    "adv = attack.generate(X[:14])\n",
    "print(clf.predict(adv))\n",
    "plt.imshow(adv[0].reshape(8,8))\n",
    "# plt.imshow((X[0]-adv[0]).reshape(8,8))  ##use this to plot the difference"
   ]
  },
  {
   "cell_type": "markdown",
   "metadata": {},
   "source": [
    "The change is possibly larger if we specify which class the sample should be (mis-)classified as. To do this, we just specify a label for each attack point."
   ]
  },
  {
   "cell_type": "code",
   "execution_count": 5,
   "metadata": {},
   "outputs": [
    {
     "name": "stderr",
     "output_type": "stream",
     "text": [
      "Decision tree attack: 100%|██████████| 14/14 [00:00<00:00, 785.52it/s]"
     ]
    },
    {
     "name": "stdout",
     "output_type": "stream",
     "text": [
      "[6 6 7 7 8 8 9 9 1 1 2 2 3 3]\n"
     ]
    },
    {
     "name": "stderr",
     "output_type": "stream",
     "text": [
      "\n"
     ]
    },
    {
     "data": {
      "text/plain": [
       "<matplotlib.image.AxesImage at 0x7efd42640d68>"
      ]
     },
     "execution_count": 5,
     "metadata": {},
     "output_type": "execute_result"
    },
    {
     "data": {
      "image/png": "[encoded data removed]",
      "text/plain": [
       "<Figure size 432x288 with 1 Axes>"
      ]
     },
     "metadata": {
      "needs_background": "light"
     },
     "output_type": "display_data"
    }
   ],
   "source": [
    "adv = attack.generate(X[:14],np.array([6,6,7,7,8,8,9,9,1,1,2,2,3,3]))\n",
    "print(clf.predict(adv))\n",
    "plt.imshow(adv[0].reshape(8,8))"
   ]
  },
  {
   "cell_type": "markdown",
   "metadata": {},
   "source": [
    "Finally, the attack has an offset parameter which specifies how close the new value of the feature is compared to the learned threshold of the tree. The default value is very small (0.001), however the value can be set larger when desired. Setting it to a very large value might however yield adversarial examples outside the range or normal features!"
   ]
  },
  {
   "cell_type": "code",
   "execution_count": 6,
   "metadata": {},
   "outputs": [
    {
     "name": "stderr",
     "output_type": "stream",
     "text": [
      "Decision tree attack: 100%|██████████| 14/14 [00:00<00:00, 926.80it/s]"
     ]
    },
    {
     "name": "stdout",
     "output_type": "stream",
     "text": [
      "[5 4 4 4 5 4 1 2 4 4 5 4 4 4]\n"
     ]
    },
    {
     "name": "stderr",
     "output_type": "stream",
     "text": [
      "\n"
     ]
    },
    {
     "data": {
      "text/plain": [
       "<matplotlib.colorbar.Colorbar at 0x7efd425d12b0>"
      ]
     },
     "execution_count": 6,
     "metadata": {},
     "output_type": "execute_result"
    },
    {
     "data": {
      "image/png": "[encoded data removed]",
      "text/plain": [
       "<Figure size 432x288 with 2 Axes>"
      ]
     },
     "metadata": {
      "needs_background": "light"
     },
     "output_type": "display_data"
    }
   ],
   "source": [
    "attack = DecisionTreeAttack(clf_art,offset=20.0)\n",
    "adv = attack.generate(X[:14])\n",
    "print(clf.predict(adv))\n",
    "plt.imshow(adv[0].reshape(8,8))\n",
    "plt.colorbar()"
   ]
  },
  {
   "cell_type": "code",
   "execution_count": null,
   "metadata": {},
   "outputs": [],
   "source": []
  }
 ],
 "metadata": {
  "kernelspec": {
   "display_name": "Python 3.6",
   "language": "python",
   "name": "python3"
  },
  "language_info": {
   "codemirror_mode": {
    "name": "ipython",
    "version": 3
   },
   "file_extension": ".py",
   "mimetype": "text/x-python",
   "name": "python",
   "nbconvert_exporter": "python",
   "pygments_lexer": "ipython3",
   "version": "3.6.9"
  }
 },
 "nbformat": 4,
 "nbformat_minor": 2
}
